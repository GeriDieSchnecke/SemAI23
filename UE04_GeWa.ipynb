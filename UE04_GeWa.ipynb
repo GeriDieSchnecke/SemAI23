{
  "nbformat": 4,
  "nbformat_minor": 0,
  "metadata": {
    "colab": {
      "provenance": [],
      "include_colab_link": true
    },
    "kernelspec": {
      "name": "python3",
      "display_name": "Python 3"
    },
    "language_info": {
      "name": "python"
    }
  },
  "cells": [
    {
      "cell_type": "markdown",
      "metadata": {
        "id": "view-in-github",
        "colab_type": "text"
      },
      "source": [
        "<a href=\"https://colab.research.google.com/github/GeriDieSchnecke/SemAI23/blob/main/UE04_GeWa.ipynb\" target=\"_parent\"><img src=\"https://colab.research.google.com/assets/colab-badge.svg\" alt=\"Open In Colab\"/></a>"
      ]
    },
    {
      "cell_type": "markdown",
      "source": [
        "Course Instructor: Bernd Neumayr, JKU\n",
        "\n",
        "# UE04- SPARQL Updata and RDF Datasets\n",
        "\n",
        "Complete the **8 tasks (1 point per task)** in the `3. SPARQL Update` sheet of `SemAI.jar` first and then transfer them to this notebook.\n",
        "\n",
        "For each task include:\n",
        "- A headline including the task number\n",
        "- The task description \n",
        "- Your solution in executable form: your solutions for SemAI.jar will make use of the default grap. In this notebook you have to transform your solutions according to the workaround exemplified in V04_SPARQL_Update.ipynb\n",
        "- After executing the update request, print a serizalization of the dataset in TriG format.  \n",
        "\n",
        "**Task 9 (2 points)**  is to develop a nice visualization of RDF datasets using `visualize_graph_pyvis` from UE02 as a starting point. The requirements are as follows:\n",
        "- Each named graph must be represented as an independent graph. This means, for example, that :Jane in :JanesGraph is a different node than :Jane in :BillsGraph. There are no edges between nodes in different graphs.\n",
        "- It is not strictly necessary to draw a box around each named graph, as seen in the slides. The different named graphs should simply be visually distinguishable and not overlap.\n",
        "- If not all nodes within a named graph are connected, make sure in the visualization that the named graph still forms a coherent visual unit in some way."
      ],
      "metadata": {
        "id": "HnpijZy2D1Hd"
      }
    },
    {
      "cell_type": "code",
      "source": [
        "# Install required packages\n",
        "!pip install -q rdflib "
      ],
      "metadata": {
        "id": "8j23L38aLJXi"
      },
      "execution_count": null,
      "outputs": []
    },
    {
      "cell_type": "code",
      "source": [
        "# Imports\n",
        "import pandas as pd\n",
        "import rdflib\n",
        "from rdflib import Graph, Literal, RDF, URIRef, BNode, Namespace\n",
        "\n",
        "\n",
        "# Convenient Functions\n",
        "def sparql_select(graph,query,use_prefixes=True):\n",
        "  results = graph.query(query)          # execute the query against the graph, resulting in a rdflib.plugins.sparql.processor.SPARQLResult\n",
        "  rows = []                             # a list of dictionaries, as intermediate format to construct the pandas DataFrame\n",
        "  for result in results:                # iterate over the result set of the query, a result is an instance of rdflib.query.ResultRow\n",
        "    row = {}                            #     create a dictionary to hold a single row of the result\n",
        "    for var in results.vars:            #     iterate over the variables of the SPARQLResult to add a dictionary entry for each variable\n",
        "      if (isinstance(result[var],URIRef) and use_prefixes):\n",
        "        row[var] = result[var].n3(graph.namespace_manager)   # use namespace prefixes to shorten URIs\n",
        "      else:\n",
        "        row[var] = result[var]                  \n",
        "    rows.append(row)                    #     add the dictionary (row) to the list \n",
        "  return pd.DataFrame(rows,columns=results.vars)        \n",
        "                                        # return a pandas DataFrame constructed from the list of dictionaries, with the variables from the result set as columns      \n",
        "\n",
        "g = rdflib.Graph()\n",
        "g.parse(format=\"turtle\", data=\"\"\"\n",
        "  prefix rdf: <http://www.w3.org/1999/02/22-rdf-syntax-ns#>\n",
        "  prefix : <http://example.org/>\n",
        "\"\"\")\n",
        "\n",
        "ds = rdflib.Dataset()"
      ],
      "metadata": {
        "id": "i0ClpOzkLLKH"
      },
      "execution_count": null,
      "outputs": []
    },
    {
      "cell_type": "markdown",
      "source": [
        "**Task 1:**\n",
        "\n",
        "Sie beginnen mit einem leeren Dataset. Fügen Sie in den Default Graph Statements ein, die sagen, dass :Peter der Autor von :G1 ist, und :Mary Autor von :G2."
      ],
      "metadata": {
        "id": "2mJAGFYCLUnV"
      }
    },
    {
      "cell_type": "code",
      "source": [
        "g.update(\"\"\"\n",
        "  INSERT DATA {\n",
        "    :G1  :author  :Mary .\n",
        "    :G2  :author  :Peter .\n",
        "  };\n",
        "\"\"\")\n",
        "\n",
        "print(g.serialize(format=\"turtle\"))"
      ],
      "metadata": {
        "colab": {
          "base_uri": "https://localhost:8080/"
        },
        "id": "c-EqoSHOLa6w",
        "outputId": "7076896c-dffa-48c1-c67e-38aa7c58a502"
      },
      "execution_count": null,
      "outputs": [
        {
          "output_type": "stream",
          "name": "stdout",
          "text": [
            "@prefix : <http://example.org/> .\n",
            "\n",
            ":G1 :author :Mary .\n",
            "\n",
            ":G2 :author :Peter .\n",
            "\n",
            "\n"
          ]
        }
      ]
    },
    {
      "cell_type": "markdown",
      "source": [
        "**Task 2:**\n",
        "\n",
        "Schreiben Sie { :Mary :knows :Peter, :John, :Mary. } in den Named Graph :G1 und { :Peter :knows :Mary. :John :knows :Mary. } in den Named Graph :G2."
      ],
      "metadata": {
        "id": "XFblZa5EHdyZ"
      }
    },
    {
      "cell_type": "code",
      "source": [
        "ds.parse(format=\"trig\", data=\"\"\"\n",
        "@prefix : <http://example.org/> .\n",
        "\n",
        ":main {\n",
        "  :G1 :author :Mary .\n",
        "  :G2 :author :Peter .\n",
        "}\n",
        "\n",
        "\"\"\")\n",
        "\n",
        "ds.update(\"\"\"\n",
        "INSERT DATA {\n",
        " GRAPH :G1 {\n",
        "  :Mary :knows :Peter, :John, :Mary .\n",
        " }\n",
        "\n",
        " GRAPH :G2 {\n",
        "  :Peter :knows :Mary .\n",
        "  :John :knows :Mary .\n",
        " }\n",
        "}\n",
        "\"\"\")\n",
        "\n",
        "print(ds.serialize(format=\"trig\"))"
      ],
      "metadata": {
        "colab": {
          "base_uri": "https://localhost:8080/"
        },
        "id": "67ZS8fzsHj44",
        "outputId": "01a8c3a4-463a-4642-fc6a-a5841e19756a"
      },
      "execution_count": null,
      "outputs": [
        {
          "output_type": "stream",
          "name": "stdout",
          "text": [
            "@prefix : <http://example.org/> .\n",
            "\n",
            ":G2 {\n",
            "    :John :knows :Mary .\n",
            "\n",
            "    :Peter :knows :Mary .\n",
            "}\n",
            "\n",
            ":main {\n",
            "    :G1 :author :Mary .\n",
            "\n",
            "    :G2 :author :Peter .\n",
            "}\n",
            "\n",
            ":G1 {\n",
            "    :Mary :knows :John,\n",
            "            :Mary,\n",
            "            :Peter .\n",
            "}\n",
            "\n",
            "\n"
          ]
        }
      ]
    },
    {
      "cell_type": "markdown",
      "source": [
        "**Task 3:**\n",
        "\n",
        "Fragen Sie mittels INSERT-WHERE die :knows-Beziehungen aus :G2 ab und fügen deren inverse :knownBy-Beziehungen in den Default-Graph ein.\n",
        "Ihr Update Request darf nicht enthalten: [Mary, Peter, John]\n"
      ],
      "metadata": {
        "id": "L-00Iex3Hz3o"
      }
    },
    {
      "cell_type": "code",
      "source": [
        "ds.update(\"\"\"\n",
        "INSERT { \n",
        "  GRAPH :main {\n",
        "    ?a :knownBy ?b .   \n",
        "  }\n",
        "}\n",
        "WHERE {\n",
        " GRAPH :G2 {\n",
        "  ?b :knows ?a .\n",
        " }\n",
        "}\n",
        "\"\"\")\n",
        "\n",
        "print(ds.serialize(format=\"trig\"))"
      ],
      "metadata": {
        "colab": {
          "base_uri": "https://localhost:8080/"
        },
        "id": "kKtRqiKKH9Hz",
        "outputId": "6404b8b2-19a7-4ba8-9a9b-b56bd7b4a188"
      },
      "execution_count": null,
      "outputs": [
        {
          "output_type": "stream",
          "name": "stdout",
          "text": [
            "@prefix : <http://example.org/> .\n",
            "\n",
            ":main {\n",
            "    :G1 :author :Mary .\n",
            "\n",
            "    :G2 :author :Peter .\n",
            "\n",
            "    :Mary :knownBy :John,\n",
            "            :Peter .\n",
            "}\n",
            "\n",
            ":G2 {\n",
            "    :John :knows :Mary .\n",
            "\n",
            "    :Peter :knows :Mary .\n",
            "}\n",
            "\n",
            ":G1 {\n",
            "    :Mary :knows :John,\n",
            "            :Mary,\n",
            "            :Peter .\n",
            "}\n",
            "\n",
            "\n"
          ]
        }
      ]
    },
    {
      "cell_type": "markdown",
      "source": [
        "**Task 4:**\n",
        "\n",
        "Löschen Sie mittels DELETE-WHERE alle :knownBy-Beziehungen aus dem Default-Graph.\n",
        "Ihr Update Request darf nicht enthalten: [Mary, Peter, John]\n",
        "\n"
      ],
      "metadata": {
        "id": "eajKghRkJerk"
      }
    },
    {
      "cell_type": "code",
      "source": [
        "ds.update(\"\"\"\n",
        "DELETE {\n",
        "  GRAPH :main {\n",
        "    ?a :knownBy ?b\n",
        "  }\n",
        "}\n",
        "WHERE {\n",
        "  GRAPH :main {\n",
        "    ?a :knownBy ?b\n",
        "  }\n",
        "}\n",
        "\"\"\")\n",
        "\n",
        "print(ds.serialize(format=\"trig\"))"
      ],
      "metadata": {
        "colab": {
          "base_uri": "https://localhost:8080/"
        },
        "id": "Lf1PS0tnJnSG",
        "outputId": "ea93137e-b443-4f30-9dfc-2805cd088876"
      },
      "execution_count": null,
      "outputs": [
        {
          "output_type": "stream",
          "name": "stdout",
          "text": [
            "@prefix : <http://example.org/> .\n",
            "\n",
            ":main {\n",
            "    :G1 :author :Mary .\n",
            "\n",
            "    :G2 :author :Peter .\n",
            "}\n",
            "\n",
            ":G2 {\n",
            "    :John :knows :Mary .\n",
            "\n",
            "    :Peter :knows :Mary .\n",
            "}\n",
            "\n",
            ":G1 {\n",
            "    :Mary :knows :John,\n",
            "            :Mary,\n",
            "            :Peter .\n",
            "}\n",
            "\n",
            "\n"
          ]
        }
      ]
    },
    {
      "cell_type": "markdown",
      "source": [
        "**Task 5:**\n",
        "\n",
        "Ermitteln Sie mittels INSERT-WHERE zu jedem Named-Graph dessen Anzahl an Statements mit der Property :knows und schreiben Sie diese in den Default Graph.\n",
        "Ihr Update Request darf nicht enthalten: [G1, G2]\n",
        "\n"
      ],
      "metadata": {
        "id": "Az0eSCBHKAJU"
      }
    },
    {
      "cell_type": "code",
      "source": [
        "ds.update(\"\"\"\n",
        "  INSERT {\n",
        "    GRAPH :main {\n",
        "      ?graph :knowsCount ?count .\n",
        "    }\n",
        "  }\n",
        "  WHERE {\n",
        "    GRAPH ?graph {\n",
        "      ?subject :knows ?object .\n",
        "    }\n",
        "    {\n",
        "      SELECT ?graph (COUNT(*) AS ?count) WHERE {\n",
        "        GRAPH ?graph {\n",
        "          ?subject :knows ?object .\n",
        "        }\n",
        "      } GROUP BY ?graph\n",
        "    }\n",
        "  }\n",
        "\"\"\")\n",
        "\n",
        "print(ds.serialize(format=\"trig\"))"
      ],
      "metadata": {
        "colab": {
          "base_uri": "https://localhost:8080/"
        },
        "id": "kG0tycXPKJVs",
        "outputId": "a3344aad-ca5d-45fe-880b-dd89ae7b9249"
      },
      "execution_count": null,
      "outputs": [
        {
          "output_type": "stream",
          "name": "stdout",
          "text": [
            "@prefix : <http://example.org/> .\n",
            "@prefix xsd: <http://www.w3.org/2001/XMLSchema#> .\n",
            "\n",
            ":main {\n",
            "    :G1 :author :Mary ;\n",
            "        :knowsCount 3 .\n",
            "\n",
            "    :G2 :author :Peter ;\n",
            "        :knowsCount 2 .\n",
            "}\n",
            "\n",
            ":G2 {\n",
            "    :John :knows :Mary .\n",
            "\n",
            "    :Peter :knows :Mary .\n",
            "}\n",
            "\n",
            ":G1 {\n",
            "    :Mary :knows :John,\n",
            "            :Mary,\n",
            "            :Peter .\n",
            "}\n",
            "\n",
            "\n"
          ]
        }
      ]
    },
    {
      "cell_type": "markdown",
      "source": [
        "**Task 6:**\n",
        "\n",
        "Ermitteln Sie mittels INSERT-WHERE die Anzahl an Named Graphs und schreiben Sie sie in den Default Graph.\n",
        "Ihr Update Request darf nicht enthalten: [2]\n",
        "\n",
        "\n"
      ],
      "metadata": {
        "id": "70Qx8xqDKkHi"
      }
    },
    {
      "cell_type": "code",
      "source": [
        "ds.update(\"\"\"\n",
        "  INSERT {\n",
        "    GRAPH :main {\n",
        "      :ds :graphCount ?count .\n",
        "    }\n",
        "  }\n",
        "  WHERE {\n",
        "    SELECT (COUNT(DISTINCT ?g) AS ?count) \n",
        "    WHERE {\n",
        "       GRAPH ?g {?z ?y ?x}\n",
        "    }\n",
        "  }\n",
        "\"\"\")\n",
        "print(ds.serialize(format=\"trig\"))"
      ],
      "metadata": {
        "colab": {
          "base_uri": "https://localhost:8080/"
        },
        "id": "Pa58P3nVKrGg",
        "outputId": "3d10c5b4-a8fd-4904-b932-5855c5c64be8"
      },
      "execution_count": null,
      "outputs": [
        {
          "output_type": "stream",
          "name": "stdout",
          "text": [
            "@prefix : <http://example.org/> .\n",
            "@prefix xsd: <http://www.w3.org/2001/XMLSchema#> .\n",
            "\n",
            ":main {\n",
            "    :G1 :author :Mary ;\n",
            "        :knowsCount 3 .\n",
            "\n",
            "    :G2 :author :Peter ;\n",
            "        :knowsCount 2 .\n",
            "\n",
            "    :ds :graphCount 3 .\n",
            "}\n",
            "\n",
            ":G2 {\n",
            "    :John :knows :Mary .\n",
            "\n",
            "    :Peter :knows :Mary .\n",
            "}\n",
            "\n",
            ":G1 {\n",
            "    :Mary :knows :John,\n",
            "            :Mary,\n",
            "            :Peter .\n",
            "}\n",
            "\n",
            "\n"
          ]
        }
      ]
    },
    {
      "cell_type": "markdown",
      "source": [
        "**Task 7:**\n",
        "\n",
        "Verschieben Sie mittels DELETE-INSERT-WHERE alle Metadaten zu Named Graphs (also Statements die einen Named Graph als Subjekt haben) in den entsprechenden Named Graph.\n",
        "Ihr Update Request darf nicht enthalten: [G1, G2]\n",
        "\n",
        "\n",
        "\n"
      ],
      "metadata": {
        "id": "sgAzGq_tLKhA"
      }
    },
    {
      "cell_type": "code",
      "source": [
        "ds.update(\"\"\"\n",
        "DELETE {\n",
        "  GRAPH :main {\n",
        "    ?g ?p ?o .\n",
        "  }\n",
        "}\n",
        "INSERT {\n",
        " GRAPH ?g {\n",
        "  ?g ?p ?o .\n",
        " }\n",
        "}\n",
        "WHERE {\n",
        "  GRAPH :main {\n",
        "    ?g ?p ?o .\n",
        "    FILTER EXISTS {\n",
        "      GRAPH ?g {\n",
        "        ?s1 ?p1 ?o1 .\n",
        "      }\n",
        "    }\n",
        "  }\n",
        "}\n",
        "\"\"\")\n",
        "\n",
        "print(ds.serialize(format=\"trig\"))"
      ],
      "metadata": {
        "colab": {
          "base_uri": "https://localhost:8080/"
        },
        "id": "v5qvytFFLIpx",
        "outputId": "ef8a1673-fdd3-4fb6-cbfd-fd64bbbbd774"
      },
      "execution_count": null,
      "outputs": [
        {
          "output_type": "stream",
          "name": "stdout",
          "text": [
            "@prefix : <http://example.org/> .\n",
            "@prefix xsd: <http://www.w3.org/2001/XMLSchema#> .\n",
            "\n",
            ":main {\n",
            "    :ds :graphCount 3 .\n",
            "}\n",
            "\n",
            ":G2 {\n",
            "    :G2 :author :Peter ;\n",
            "        :knowsCount 2 .\n",
            "\n",
            "    :John :knows :Mary .\n",
            "\n",
            "    :Peter :knows :Mary .\n",
            "}\n",
            "\n",
            ":G1 {\n",
            "    :G1 :author :Mary ;\n",
            "        :knowsCount 3 .\n",
            "\n",
            "    :Mary :knows :John,\n",
            "            :Mary,\n",
            "            :Peter .\n",
            "}\n",
            "\n",
            "\n"
          ]
        }
      ]
    },
    {
      "cell_type": "markdown",
      "source": [
        "**Task 8:**\n",
        "\n",
        "Schreiben Sie in jeden Named Graph ein Statement, dass der Autor des jeweiligen Named Graphs die :Susi kennt und aktualisieren Sie mit dem selben UpdateRequest den knowsCount.\n",
        "Ihr Update Request darf nicht enthalten: [Peter, Mary]\n",
        "\n",
        "\n",
        "\n",
        "\n"
      ],
      "metadata": {
        "id": "bhGNL1yDMcNZ"
      }
    },
    {
      "cell_type": "code",
      "source": [
        "ds.update(\"\"\"\n",
        " DELETE {\n",
        "  GRAPH ?g {\n",
        "    ?g :knowsCount ?count .\n",
        "  }\n",
        "}\n",
        "INSERT {\n",
        "  GRAPH ?g {\n",
        "    ?author :knows :Susi.\n",
        "    ?g :knowsCount ?newCount .\n",
        "  }\n",
        "}\n",
        "WHERE {\n",
        "  GRAPH ?g {\n",
        "    ?g :author ?author .\n",
        "    ?g :knowsCount ?count .\n",
        "    BIND((?count + 1) AS ?newCount)\n",
        "  }\n",
        "} \n",
        "\"\"\")\n",
        "\n",
        "print(ds.serialize(format=\"trig\"))"
      ],
      "metadata": {
        "colab": {
          "base_uri": "https://localhost:8080/"
        },
        "id": "kdnslH3fMjNh",
        "outputId": "6835ef9a-0d47-4c95-c97f-099d2aff6689"
      },
      "execution_count": null,
      "outputs": [
        {
          "output_type": "stream",
          "name": "stdout",
          "text": [
            "@prefix : <http://example.org/> .\n",
            "@prefix xsd: <http://www.w3.org/2001/XMLSchema#> .\n",
            "\n",
            ":main {\n",
            "    :ds :graphCount 3 .\n",
            "}\n",
            "\n",
            ":G2 {\n",
            "    :G2 :author :Peter ;\n",
            "        :knowsCount 3 .\n",
            "\n",
            "    :John :knows :Mary .\n",
            "\n",
            "    :Peter :knows :Mary,\n",
            "            :Susi .\n",
            "}\n",
            "\n",
            ":G1 {\n",
            "    :G1 :author :Mary ;\n",
            "        :knowsCount 4 .\n",
            "\n",
            "    :Mary :knows :John,\n",
            "            :Mary,\n",
            "            :Peter,\n",
            "            :Susi .\n",
            "}\n",
            "\n",
            "\n"
          ]
        }
      ]
    }
  ]
}